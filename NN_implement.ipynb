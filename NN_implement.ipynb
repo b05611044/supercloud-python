{
 "cells": [
  {
   "cell_type": "markdown",
   "metadata": {},
   "source": [
    "# Outline\n",
    "這次總共訓練了4個神經網路：\n",
    "\n",
    "1.使用最原始loss function: mse，activation fuction使用sigmoid\n",
    "\n",
    "2.loss function換成適合多分類問題的cross entropy\n",
    "\n",
    "3.除了loss function換成適合多分類問題的cross entropy外，將activation function換成鼎鼎大名的relu\n",
    "\n",
    "4.為了防止overfitting的問題，加入了Dropout跟early stopping"
   ]
  },
  {
   "cell_type": "code",
   "execution_count": 1,
   "metadata": {},
   "outputs": [],
   "source": [
    "%matplotlib inline\n",
    "\n",
    "import numpy as np\n",
    "import matplotlib.pyplot as plt\n",
    "import pandas as pd"
   ]
  },
  {
   "cell_type": "code",
   "execution_count": 2,
   "metadata": {},
   "outputs": [
    {
     "name": "stderr",
     "output_type": "stream",
     "text": [
      "Using TensorFlow backend.\n"
     ]
    }
   ],
   "source": [
    "from keras.datasets import mnist"
   ]
  },
  {
   "cell_type": "code",
   "execution_count": 3,
   "metadata": {},
   "outputs": [],
   "source": [
    "(x_train, y_train), (x_test, y_test) = mnist.load_data()\n",
    "x_train = x_train.reshape(60000, 784)\n",
    "x_test = x_test.reshape(10000, 784)"
   ]
  },
  {
   "cell_type": "code",
   "execution_count": 4,
   "metadata": {},
   "outputs": [],
   "source": [
    "x_train -= x_train.min()\n",
    "x_train = x_train/x_train.max()\n",
    "x_test -= x_test.min()\n",
    "x_test = x_test/x_test.max()"
   ]
  },
  {
   "cell_type": "code",
   "execution_count": 5,
   "metadata": {},
   "outputs": [],
   "source": [
    "from keras.utils import np_utils\n",
    "y_train = np_utils.to_categorical(y_train ,10)\n",
    "y_test = np_utils.to_categorical(y_test, 10)"
   ]
  },
  {
   "cell_type": "code",
   "execution_count": 6,
   "metadata": {},
   "outputs": [],
   "source": [
    "from keras.models import Sequential\n",
    "from keras.layers import Dense, Activation\n",
    "from keras.optimizers import SGD, Adam"
   ]
  },
  {
   "cell_type": "markdown",
   "metadata": {},
   "source": [
    "使用最原始loss function: mse，activation fuction使用sigmoid"
   ]
  },
  {
   "cell_type": "code",
   "execution_count": 7,
   "metadata": {},
   "outputs": [],
   "source": [
    "model = Sequential()\n",
    "model.add(Dense(100,input_dim = 784))\n",
    "model.add(Activation('sigmoid'))\n",
    "model.add(Dense(500))\n",
    "model.add(Activation('sigmoid'))\n",
    "model.add(Dense(250))\n",
    "model.add(Activation('sigmoid'))\n",
    "model.add(Dense(10))\n",
    "model.add(Activation('softmax'))"
   ]
  },
  {
   "cell_type": "code",
   "execution_count": 8,
   "metadata": {},
   "outputs": [],
   "source": [
    "model.compile(loss='mse', optimizer=SGD(lr=0.5),\n",
    "              metrics=['accuracy'])"
   ]
  },
  {
   "cell_type": "code",
   "execution_count": 9,
   "metadata": {},
   "outputs": [
    {
     "name": "stdout",
     "output_type": "stream",
     "text": [
      "_________________________________________________________________\n",
      "Layer (type)                 Output Shape              Param #   \n",
      "=================================================================\n",
      "dense_1 (Dense)              (None, 100)               78500     \n",
      "_________________________________________________________________\n",
      "activation_1 (Activation)    (None, 100)               0         \n",
      "_________________________________________________________________\n",
      "dense_2 (Dense)              (None, 500)               50500     \n",
      "_________________________________________________________________\n",
      "activation_2 (Activation)    (None, 500)               0         \n",
      "_________________________________________________________________\n",
      "dense_3 (Dense)              (None, 250)               125250    \n",
      "_________________________________________________________________\n",
      "activation_3 (Activation)    (None, 250)               0         \n",
      "_________________________________________________________________\n",
      "dense_4 (Dense)              (None, 10)                2510      \n",
      "_________________________________________________________________\n",
      "activation_4 (Activation)    (None, 10)                0         \n",
      "=================================================================\n",
      "Total params: 256,760\n",
      "Trainable params: 256,760\n",
      "Non-trainable params: 0\n",
      "_________________________________________________________________\n"
     ]
    }
   ],
   "source": [
    "model.summary()"
   ]
  },
  {
   "cell_type": "code",
   "execution_count": 10,
   "metadata": {},
   "outputs": [
    {
     "name": "stdout",
     "output_type": "stream",
     "text": [
      "Train on 54000 samples, validate on 6000 samples\n",
      "Epoch 1/20\n",
      "54000/54000 [==============================] - 4s 71us/step - loss: 0.0900 - acc: 0.1120 - val_loss: 0.0900 - val_acc: 0.1050\n",
      "Epoch 2/20\n",
      "54000/54000 [==============================] - 4s 67us/step - loss: 0.0899 - acc: 0.1162 - val_loss: 0.0899 - val_acc: 0.1050\n",
      "Epoch 3/20\n",
      "54000/54000 [==============================] - 4s 67us/step - loss: 0.0899 - acc: 0.1229 - val_loss: 0.0899 - val_acc: 0.1050\n",
      "Epoch 4/20\n",
      "54000/54000 [==============================] - 4s 69us/step - loss: 0.0898 - acc: 0.1250 - val_loss: 0.0897 - val_acc: 0.1113\n",
      "Epoch 5/20\n",
      "54000/54000 [==============================] - 3s 62us/step - loss: 0.0897 - acc: 0.1315 - val_loss: 0.0897 - val_acc: 0.2002\n",
      "Epoch 6/20\n",
      "54000/54000 [==============================] - 3s 62us/step - loss: 0.0896 - acc: 0.1457 - val_loss: 0.0896 - val_acc: 0.1045\n",
      "Epoch 7/20\n",
      "54000/54000 [==============================] - 3s 61us/step - loss: 0.0895 - acc: 0.1552 - val_loss: 0.0895 - val_acc: 0.1050\n",
      "Epoch 8/20\n",
      "54000/54000 [==============================] - 3s 64us/step - loss: 0.0894 - acc: 0.1599 - val_loss: 0.0893 - val_acc: 0.1472\n",
      "Epoch 9/20\n",
      "54000/54000 [==============================] - 4s 70us/step - loss: 0.0892 - acc: 0.1764 - val_loss: 0.0890 - val_acc: 0.1252\n",
      "Epoch 10/20\n",
      "54000/54000 [==============================] - 4s 66us/step - loss: 0.0889 - acc: 0.1922 - val_loss: 0.0887 - val_acc: 0.1410\n",
      "Epoch 11/20\n",
      "54000/54000 [==============================] - 4s 66us/step - loss: 0.0884 - acc: 0.2035 - val_loss: 0.0880 - val_acc: 0.1933\n",
      "Epoch 12/20\n",
      "54000/54000 [==============================] - 3s 62us/step - loss: 0.0873 - acc: 0.2111 - val_loss: 0.0865 - val_acc: 0.1980\n",
      "Epoch 13/20\n",
      "54000/54000 [==============================] - 3s 64us/step - loss: 0.0846 - acc: 0.2127 - val_loss: 0.0823 - val_acc: 0.2108\n",
      "Epoch 14/20\n",
      "54000/54000 [==============================] - 4s 76us/step - loss: 0.0795 - acc: 0.2669 - val_loss: 0.0771 - val_acc: 0.2975\n",
      "Epoch 15/20\n",
      "54000/54000 [==============================] - 3s 64us/step - loss: 0.0747 - acc: 0.3883 - val_loss: 0.0725 - val_acc: 0.4472\n",
      "Epoch 16/20\n",
      "54000/54000 [==============================] - 3s 65us/step - loss: 0.0703 - acc: 0.4625 - val_loss: 0.0678 - val_acc: 0.5003\n",
      "Epoch 17/20\n",
      "54000/54000 [==============================] - 3s 65us/step - loss: 0.0655 - acc: 0.5109 - val_loss: 0.0621 - val_acc: 0.4918\n",
      "Epoch 18/20\n",
      "54000/54000 [==============================] - 4s 65us/step - loss: 0.0594 - acc: 0.5592 - val_loss: 0.0544 - val_acc: 0.6185\n",
      "Epoch 19/20\n",
      "54000/54000 [==============================] - 4s 68us/step - loss: 0.0516 - acc: 0.6434 - val_loss: 0.0454 - val_acc: 0.7127\n",
      "Epoch 20/20\n",
      "54000/54000 [==============================] - 4s 67us/step - loss: 0.0439 - acc: 0.7130 - val_loss: 0.0381 - val_acc: 0.7582\n"
     ]
    }
   ],
   "source": [
    "model_out = model.fit(x_train, y_train, batch_size=100, epochs=20, validation_split=0.1)"
   ]
  },
  {
   "cell_type": "code",
   "execution_count": 11,
   "metadata": {},
   "outputs": [
    {
     "name": "stdout",
     "output_type": "stream",
     "text": [
      "60000/60000 [==============================] - 3s 49us/step\n",
      "loss: 0.04064708680311839\n",
      "accuracy: 0.73155\n"
     ]
    }
   ],
   "source": [
    "score = model.evaluate(x_train, y_train)\n",
    "print('loss:', score[0])\n",
    "print('accuracy:', score[1])"
   ]
  },
  {
   "cell_type": "code",
   "execution_count": 12,
   "metadata": {},
   "outputs": [
    {
     "name": "stdout",
     "output_type": "stream",
     "text": [
      "10000/10000 [==============================] - 0s 49us/step\n",
      "loss: 0.040078217858076096\n",
      "accuracy: 0.7342\n"
     ]
    }
   ],
   "source": [
    "score = model.evaluate(x_test, y_test)\n",
    "print('loss:', score[0])\n",
    "print('accuracy:', score[1])"
   ]
  },
  {
   "cell_type": "code",
   "execution_count": 13,
   "metadata": {},
   "outputs": [],
   "source": [
    "from sklearn import metrics \n",
    "from sklearn.metrics import classification_report\n",
    "from sklearn.metrics import confusion_matrix"
   ]
  },
  {
   "cell_type": "code",
   "execution_count": 14,
   "metadata": {},
   "outputs": [
    {
     "data": {
      "text/html": [
       "<div>\n",
       "<style scoped>\n",
       "    .dataframe tbody tr th:only-of-type {\n",
       "        vertical-align: middle;\n",
       "    }\n",
       "\n",
       "    .dataframe tbody tr th {\n",
       "        vertical-align: top;\n",
       "    }\n",
       "\n",
       "    .dataframe thead th {\n",
       "        text-align: right;\n",
       "    }\n",
       "</style>\n",
       "<table border=\"1\" class=\"dataframe\">\n",
       "  <thead>\n",
       "    <tr style=\"text-align: right;\">\n",
       "      <th></th>\n",
       "      <th>predict_0</th>\n",
       "      <th>predict_1</th>\n",
       "      <th>predict_2</th>\n",
       "      <th>predict_3</th>\n",
       "      <th>predict_4</th>\n",
       "      <th>predict_5</th>\n",
       "      <th>predict_6</th>\n",
       "      <th>predict_7</th>\n",
       "      <th>predict_8</th>\n",
       "      <th>predict_9</th>\n",
       "    </tr>\n",
       "  </thead>\n",
       "  <tbody>\n",
       "    <tr>\n",
       "      <th>true_0</th>\n",
       "      <td>953</td>\n",
       "      <td>0</td>\n",
       "      <td>1</td>\n",
       "      <td>1</td>\n",
       "      <td>1</td>\n",
       "      <td>15</td>\n",
       "      <td>7</td>\n",
       "      <td>1</td>\n",
       "      <td>1</td>\n",
       "      <td>0</td>\n",
       "    </tr>\n",
       "    <tr>\n",
       "      <th>true_1</th>\n",
       "      <td>0</td>\n",
       "      <td>1115</td>\n",
       "      <td>5</td>\n",
       "      <td>6</td>\n",
       "      <td>0</td>\n",
       "      <td>0</td>\n",
       "      <td>1</td>\n",
       "      <td>1</td>\n",
       "      <td>7</td>\n",
       "      <td>0</td>\n",
       "    </tr>\n",
       "    <tr>\n",
       "      <th>true_2</th>\n",
       "      <td>16</td>\n",
       "      <td>24</td>\n",
       "      <td>661</td>\n",
       "      <td>99</td>\n",
       "      <td>24</td>\n",
       "      <td>30</td>\n",
       "      <td>113</td>\n",
       "      <td>12</td>\n",
       "      <td>40</td>\n",
       "      <td>13</td>\n",
       "    </tr>\n",
       "    <tr>\n",
       "      <th>true_3</th>\n",
       "      <td>5</td>\n",
       "      <td>9</td>\n",
       "      <td>29</td>\n",
       "      <td>843</td>\n",
       "      <td>0</td>\n",
       "      <td>41</td>\n",
       "      <td>2</td>\n",
       "      <td>25</td>\n",
       "      <td>48</td>\n",
       "      <td>8</td>\n",
       "    </tr>\n",
       "    <tr>\n",
       "      <th>true_4</th>\n",
       "      <td>1</td>\n",
       "      <td>5</td>\n",
       "      <td>5</td>\n",
       "      <td>0</td>\n",
       "      <td>656</td>\n",
       "      <td>1</td>\n",
       "      <td>45</td>\n",
       "      <td>17</td>\n",
       "      <td>18</td>\n",
       "      <td>234</td>\n",
       "    </tr>\n",
       "    <tr>\n",
       "      <th>true_5</th>\n",
       "      <td>63</td>\n",
       "      <td>3</td>\n",
       "      <td>31</td>\n",
       "      <td>184</td>\n",
       "      <td>13</td>\n",
       "      <td>427</td>\n",
       "      <td>42</td>\n",
       "      <td>83</td>\n",
       "      <td>38</td>\n",
       "      <td>8</td>\n",
       "    </tr>\n",
       "    <tr>\n",
       "      <th>true_6</th>\n",
       "      <td>30</td>\n",
       "      <td>2</td>\n",
       "      <td>40</td>\n",
       "      <td>0</td>\n",
       "      <td>8</td>\n",
       "      <td>17</td>\n",
       "      <td>855</td>\n",
       "      <td>0</td>\n",
       "      <td>5</td>\n",
       "      <td>1</td>\n",
       "    </tr>\n",
       "    <tr>\n",
       "      <th>true_7</th>\n",
       "      <td>10</td>\n",
       "      <td>50</td>\n",
       "      <td>7</td>\n",
       "      <td>2</td>\n",
       "      <td>2</td>\n",
       "      <td>6</td>\n",
       "      <td>0</td>\n",
       "      <td>887</td>\n",
       "      <td>28</td>\n",
       "      <td>36</td>\n",
       "    </tr>\n",
       "    <tr>\n",
       "      <th>true_8</th>\n",
       "      <td>14</td>\n",
       "      <td>32</td>\n",
       "      <td>128</td>\n",
       "      <td>121</td>\n",
       "      <td>16</td>\n",
       "      <td>78</td>\n",
       "      <td>52</td>\n",
       "      <td>46</td>\n",
       "      <td>448</td>\n",
       "      <td>39</td>\n",
       "    </tr>\n",
       "    <tr>\n",
       "      <th>true_9</th>\n",
       "      <td>14</td>\n",
       "      <td>13</td>\n",
       "      <td>1</td>\n",
       "      <td>6</td>\n",
       "      <td>144</td>\n",
       "      <td>18</td>\n",
       "      <td>9</td>\n",
       "      <td>294</td>\n",
       "      <td>13</td>\n",
       "      <td>497</td>\n",
       "    </tr>\n",
       "  </tbody>\n",
       "</table>\n",
       "</div>"
      ],
      "text/plain": [
       "        predict_0  predict_1  predict_2  predict_3  predict_4  predict_5  \\\n",
       "true_0        953          0          1          1          1         15   \n",
       "true_1          0       1115          5          6          0          0   \n",
       "true_2         16         24        661         99         24         30   \n",
       "true_3          5          9         29        843          0         41   \n",
       "true_4          1          5          5          0        656          1   \n",
       "true_5         63          3         31        184         13        427   \n",
       "true_6         30          2         40          0          8         17   \n",
       "true_7         10         50          7          2          2          6   \n",
       "true_8         14         32        128        121         16         78   \n",
       "true_9         14         13          1          6        144         18   \n",
       "\n",
       "        predict_6  predict_7  predict_8  predict_9  \n",
       "true_0          7          1          1          0  \n",
       "true_1          1          1          7          0  \n",
       "true_2        113         12         40         13  \n",
       "true_3          2         25         48          8  \n",
       "true_4         45         17         18        234  \n",
       "true_5         42         83         38          8  \n",
       "true_6        855          0          5          1  \n",
       "true_7          0        887         28         36  \n",
       "true_8         52         46        448         39  \n",
       "true_9          9        294         13        497  "
      ]
     },
     "execution_count": 14,
     "metadata": {},
     "output_type": "execute_result"
    }
   ],
   "source": [
    "CMtest = confusion_matrix(y_test.argmax(1), model.predict(x_test).argmax(1))\n",
    "CMtest = pd.DataFrame(CMtest,index = [\"true_0\",\"true_1\",\"true_2\",\"true_3\",\"true_4\",\"true_5\",\"true_6\",\"true_7\",\"true_8\",\"true_9\"],\n",
    "                     columns = [\"predict_0\",\"predict_1\",\"predict_2\",\"predict_3\",\"predict_4\",\"predict_5\",\"predict_6\",\"predict_7\",\"predict_8\",\"predict_9\"])\n",
    "CMtest"
   ]
  },
  {
   "cell_type": "markdown",
   "metadata": {},
   "source": [
    "loss function換成適合多分類問題的cross entropy"
   ]
  },
  {
   "cell_type": "code",
   "execution_count": 15,
   "metadata": {},
   "outputs": [],
   "source": [
    "model2 = Sequential()\n",
    "model2.add(Dense(100,input_dim = 784))\n",
    "model2.add(Activation('sigmoid'))\n",
    "model2.add(Dense(500))\n",
    "model2.add(Activation('sigmoid'))\n",
    "model2.add(Dense(250))\n",
    "model2.add(Activation('sigmoid'))\n",
    "model2.add(Dense(10))\n",
    "model2.add(Activation('softmax'))"
   ]
  },
  {
   "cell_type": "code",
   "execution_count": 16,
   "metadata": {},
   "outputs": [],
   "source": [
    "model2.compile(loss='categorical_crossentropy', optimizer=SGD(lr=0.05),\n",
    "               metrics=['accuracy'])"
   ]
  },
  {
   "cell_type": "code",
   "execution_count": 17,
   "metadata": {},
   "outputs": [
    {
     "name": "stdout",
     "output_type": "stream",
     "text": [
      "Train on 54000 samples, validate on 6000 samples\n",
      "Epoch 1/20\n",
      "54000/54000 [==============================] - 4s 74us/step - loss: 2.3061 - acc: 0.1140 - val_loss: 2.3025 - val_acc: 0.0995\n",
      "Epoch 2/20\n",
      "54000/54000 [==============================] - 3s 64us/step - loss: 2.2841 - acc: 0.1425 - val_loss: 2.2654 - val_acc: 0.2023\n",
      "Epoch 3/20\n",
      "54000/54000 [==============================] - 4s 66us/step - loss: 2.1975 - acc: 0.2713 - val_loss: 2.0539 - val_acc: 0.3285\n",
      "Epoch 4/20\n",
      "54000/54000 [==============================] - 4s 68us/step - loss: 1.7098 - acc: 0.4380 - val_loss: 1.3681 - val_acc: 0.5465\n",
      "Epoch 5/20\n",
      "54000/54000 [==============================] - 4s 67us/step - loss: 1.2313 - acc: 0.5853 - val_loss: 1.0224 - val_acc: 0.6812\n",
      "Epoch 6/20\n",
      "54000/54000 [==============================] - 4s 68us/step - loss: 0.9242 - acc: 0.7090 - val_loss: 0.7305 - val_acc: 0.8062\n",
      "Epoch 7/20\n",
      "54000/54000 [==============================] - 3s 65us/step - loss: 0.7354 - acc: 0.7766 - val_loss: 0.5937 - val_acc: 0.8362\n",
      "Epoch 8/20\n",
      "54000/54000 [==============================] - 4s 65us/step - loss: 0.6309 - acc: 0.8150 - val_loss: 0.5088 - val_acc: 0.8632\n",
      "Epoch 9/20\n",
      "54000/54000 [==============================] - 4s 66us/step - loss: 0.5548 - acc: 0.8401 - val_loss: 0.4456 - val_acc: 0.8813\n",
      "Epoch 10/20\n",
      "54000/54000 [==============================] - 4s 76us/step - loss: 0.4983 - acc: 0.8587 - val_loss: 0.4033 - val_acc: 0.8912\n",
      "Epoch 11/20\n",
      "54000/54000 [==============================] - 4s 71us/step - loss: 0.4574 - acc: 0.8699 - val_loss: 0.3695 - val_acc: 0.8962\n",
      "Epoch 12/20\n",
      "54000/54000 [==============================] - 4s 65us/step - loss: 0.4253 - acc: 0.8787 - val_loss: 0.3495 - val_acc: 0.9010\n",
      "Epoch 13/20\n",
      "54000/54000 [==============================] - 4s 68us/step - loss: 0.3996 - acc: 0.8861 - val_loss: 0.3266 - val_acc: 0.9057\n",
      "Epoch 14/20\n",
      "54000/54000 [==============================] - 3s 64us/step - loss: 0.3781 - acc: 0.8917 - val_loss: 0.3118 - val_acc: 0.9117\n",
      "Epoch 15/20\n",
      "54000/54000 [==============================] - 4s 67us/step - loss: 0.3598 - acc: 0.8964 - val_loss: 0.2931 - val_acc: 0.9195\n",
      "Epoch 16/20\n",
      "54000/54000 [==============================] - 4s 66us/step - loss: 0.3435 - acc: 0.9011 - val_loss: 0.2855 - val_acc: 0.9212\n",
      "Epoch 17/20\n",
      "54000/54000 [==============================] - 4s 71us/step - loss: 0.3295 - acc: 0.9039 - val_loss: 0.2726 - val_acc: 0.9235\n",
      "Epoch 18/20\n",
      "54000/54000 [==============================] - 4s 70us/step - loss: 0.3157 - acc: 0.9088 - val_loss: 0.2596 - val_acc: 0.9268\n",
      "Epoch 19/20\n",
      "54000/54000 [==============================] - 4s 67us/step - loss: 0.3039 - acc: 0.9116 - val_loss: 0.2495 - val_acc: 0.9285\n",
      "Epoch 20/20\n",
      "54000/54000 [==============================] - 4s 66us/step - loss: 0.2924 - acc: 0.9159 - val_loss: 0.2395 - val_acc: 0.9312\n"
     ]
    }
   ],
   "source": [
    "model2_out = model2.fit(x_train, y_train, batch_size=100, epochs=20, validation_split=0.1)"
   ]
  },
  {
   "cell_type": "code",
   "execution_count": 18,
   "metadata": {},
   "outputs": [
    {
     "name": "stdout",
     "output_type": "stream",
     "text": [
      "60000/60000 [==============================] - 3s 51us/step\n",
      "loss: 0.2802912183572849\n",
      "accuracy: 0.9183833333333333\n"
     ]
    }
   ],
   "source": [
    "score = model2.evaluate(x_train, y_train)\n",
    "print('loss:', score[0])\n",
    "print('accuracy:', score[1])"
   ]
  },
  {
   "cell_type": "code",
   "execution_count": 19,
   "metadata": {},
   "outputs": [
    {
     "name": "stdout",
     "output_type": "stream",
     "text": [
      "10000/10000 [==============================] - 1s 59us/step\n",
      "loss: 0.27521061472296715\n",
      "accuracy: 0.9178\n"
     ]
    }
   ],
   "source": [
    "score = model2.evaluate(x_test, y_test)\n",
    "print('loss:', score[0])\n",
    "print('accuracy:', score[1])"
   ]
  },
  {
   "cell_type": "markdown",
   "metadata": {},
   "source": [
    "將activation function換成鼎鼎大名的relu"
   ]
  },
  {
   "cell_type": "code",
   "execution_count": 20,
   "metadata": {},
   "outputs": [],
   "source": [
    "model3 = Sequential()\n",
    "model3.add(Dense(100,input_dim = 784))\n",
    "model3.add(Activation('relu'))\n",
    "model3.add(Dense(500))\n",
    "model3.add(Activation('relu'))\n",
    "model3.add(Dense(250))\n",
    "model3.add(Activation('relu'))\n",
    "model3.add(Dense(10))\n",
    "model3.add(Activation('softmax'))"
   ]
  },
  {
   "cell_type": "code",
   "execution_count": 21,
   "metadata": {},
   "outputs": [],
   "source": [
    "model3.compile(loss='categorical_crossentropy', optimizer=SGD(lr=0.05),\n",
    "               metrics=['accuracy'])"
   ]
  },
  {
   "cell_type": "code",
   "execution_count": 22,
   "metadata": {},
   "outputs": [
    {
     "name": "stdout",
     "output_type": "stream",
     "text": [
      "Train on 54000 samples, validate on 6000 samples\n",
      "Epoch 1/20\n",
      "54000/54000 [==============================] - 4s 69us/step - loss: 0.5684 - acc: 0.8430 - val_loss: 0.2431 - val_acc: 0.9278\n",
      "Epoch 2/20\n",
      "54000/54000 [==============================] - 3s 65us/step - loss: 0.2522 - acc: 0.9252 - val_loss: 0.1860 - val_acc: 0.9478\n",
      "Epoch 3/20\n",
      "54000/54000 [==============================] - 3s 64us/step - loss: 0.1935 - acc: 0.9433 - val_loss: 0.1577 - val_acc: 0.9560\n",
      "Epoch 4/20\n",
      "54000/54000 [==============================] - 4s 70us/step - loss: 0.1562 - acc: 0.9539 - val_loss: 0.1184 - val_acc: 0.9675\n",
      "Epoch 5/20\n",
      "54000/54000 [==============================] - 4s 81us/step - loss: 0.1316 - acc: 0.9606 - val_loss: 0.1067 - val_acc: 0.9708\n",
      "Epoch 6/20\n",
      "54000/54000 [==============================] - 5s 91us/step - loss: 0.1133 - acc: 0.9660 - val_loss: 0.1007 - val_acc: 0.9727\n",
      "Epoch 7/20\n",
      "54000/54000 [==============================] - 4s 80us/step - loss: 0.0984 - acc: 0.9706 - val_loss: 0.0918 - val_acc: 0.9728\n",
      "Epoch 8/20\n",
      "54000/54000 [==============================] - 5s 84us/step - loss: 0.0863 - acc: 0.9742 - val_loss: 0.0867 - val_acc: 0.9747\n",
      "Epoch 9/20\n",
      "54000/54000 [==============================] - 4s 81us/step - loss: 0.0766 - acc: 0.9770 - val_loss: 0.0926 - val_acc: 0.9728\n",
      "Epoch 10/20\n",
      "54000/54000 [==============================] - 4s 80us/step - loss: 0.0687 - acc: 0.9792 - val_loss: 0.0796 - val_acc: 0.9767\n",
      "Epoch 11/20\n",
      "54000/54000 [==============================] - 4s 81us/step - loss: 0.0615 - acc: 0.9812 - val_loss: 0.0827 - val_acc: 0.9767\n",
      "Epoch 12/20\n",
      "54000/54000 [==============================] - 5s 87us/step - loss: 0.0560 - acc: 0.9831 - val_loss: 0.0805 - val_acc: 0.9753\n",
      "Epoch 13/20\n",
      "54000/54000 [==============================] - 5s 84us/step - loss: 0.0508 - acc: 0.9848 - val_loss: 0.0750 - val_acc: 0.9777\n",
      "Epoch 14/20\n",
      "54000/54000 [==============================] - 4s 78us/step - loss: 0.0467 - acc: 0.9860 - val_loss: 0.0751 - val_acc: 0.9777\n",
      "Epoch 15/20\n",
      "54000/54000 [==============================] - 4s 72us/step - loss: 0.0425 - acc: 0.9875 - val_loss: 0.0718 - val_acc: 0.9793\n",
      "Epoch 16/20\n",
      "54000/54000 [==============================] - 4s 65us/step - loss: 0.0378 - acc: 0.9890 - val_loss: 0.0714 - val_acc: 0.9793\n",
      "Epoch 17/20\n",
      "54000/54000 [==============================] - 4s 66us/step - loss: 0.0344 - acc: 0.9902 - val_loss: 0.0760 - val_acc: 0.9792\n",
      "Epoch 18/20\n",
      "54000/54000 [==============================] - 3s 65us/step - loss: 0.0313 - acc: 0.9908 - val_loss: 0.0749 - val_acc: 0.9798\n",
      "Epoch 19/20\n",
      "54000/54000 [==============================] - 4s 70us/step - loss: 0.0283 - acc: 0.9921 - val_loss: 0.0827 - val_acc: 0.9772\n",
      "Epoch 20/20\n",
      "54000/54000 [==============================] - 3s 61us/step - loss: 0.0258 - acc: 0.9927 - val_loss: 0.0760 - val_acc: 0.9792\n"
     ]
    }
   ],
   "source": [
    "model3_out = model3.fit(x_train, y_train, batch_size=100, epochs=20, validation_split=0.1)"
   ]
  },
  {
   "cell_type": "code",
   "execution_count": 24,
   "metadata": {},
   "outputs": [
    {
     "name": "stdout",
     "output_type": "stream",
     "text": [
      "60000/60000 [==============================] - 3s 53us/step\n",
      "loss: 0.026993594188685528\n",
      "accuracy: 0.9931166666666666\n"
     ]
    }
   ],
   "source": [
    "score = model3.evaluate(x_train, y_train)\n",
    "print('loss:', score[0])\n",
    "print('accuracy:', score[1])"
   ]
  },
  {
   "cell_type": "code",
   "execution_count": 25,
   "metadata": {},
   "outputs": [
    {
     "name": "stdout",
     "output_type": "stream",
     "text": [
      "10000/10000 [==============================] - 1s 54us/step\n",
      "loss: 0.08169718511545798\n",
      "accuracy: 0.9749\n"
     ]
    }
   ],
   "source": [
    "score = model3.evaluate(x_test, y_test)\n",
    "print('loss:', score[0])\n",
    "print('accuracy:', score[1])"
   ]
  },
  {
   "cell_type": "markdown",
   "metadata": {},
   "source": [
    "加入dropout跟early stopping"
   ]
  },
  {
   "cell_type": "code",
   "execution_count": 26,
   "metadata": {},
   "outputs": [],
   "source": [
    "from keras.layers import Dropout"
   ]
  },
  {
   "cell_type": "code",
   "execution_count": 27,
   "metadata": {},
   "outputs": [],
   "source": [
    "model4 = Sequential()\n",
    "model4.add(Dense(100,input_dim = 784))\n",
    "model4.add(Activation('relu'))\n",
    "model4.add(Dropout(0.2))\n",
    "model4.add(Dense(500))\n",
    "model4.add(Activation('relu'))\n",
    "model4.add(Dropout(0.2))\n",
    "model4.add(Dense(250))\n",
    "model4.add(Activation('relu'))\n",
    "model4.add(Dropout(0.2))\n",
    "model4.add(Dense(10))\n",
    "model4.add(Activation('softmax'))"
   ]
  },
  {
   "cell_type": "code",
   "execution_count": 28,
   "metadata": {},
   "outputs": [],
   "source": [
    "model4.compile(loss='categorical_crossentropy', optimizer=SGD(lr=0.05),\n",
    "               metrics=['accuracy'])"
   ]
  },
  {
   "cell_type": "code",
   "execution_count": 29,
   "metadata": {},
   "outputs": [],
   "source": [
    "from keras.callbacks import EarlyStopping\n",
    "early_stopping = EarlyStopping(monitor='val_loss', patience=5, verbose=2)"
   ]
  },
  {
   "cell_type": "code",
   "execution_count": 30,
   "metadata": {},
   "outputs": [
    {
     "name": "stdout",
     "output_type": "stream",
     "text": [
      "Train on 54000 samples, validate on 6000 samples\n",
      "Epoch 1/20\n",
      "54000/54000 [==============================] - 6s 115us/step - loss: 0.7683 - acc: 0.7607 - val_loss: 0.2499 - val_acc: 0.9277\n",
      "Epoch 2/20\n",
      "54000/54000 [==============================] - 5s 101us/step - loss: 0.3402 - acc: 0.8980 - val_loss: 0.1776 - val_acc: 0.9455\n",
      "Epoch 3/20\n",
      "54000/54000 [==============================] - 6s 115us/step - loss: 0.2630 - acc: 0.9222 - val_loss: 0.1447 - val_acc: 0.9577\n",
      "Epoch 4/20\n",
      "54000/54000 [==============================] - 6s 116us/step - loss: 0.2210 - acc: 0.9332 - val_loss: 0.1144 - val_acc: 0.9668\n",
      "Epoch 5/20\n",
      "54000/54000 [==============================] - 6s 111us/step - loss: 0.1920 - acc: 0.9415 - val_loss: 0.1058 - val_acc: 0.9690\n",
      "Epoch 6/20\n",
      "54000/54000 [==============================] - 6s 109us/step - loss: 0.1708 - acc: 0.9496 - val_loss: 0.0967 - val_acc: 0.9717\n",
      "Epoch 7/20\n",
      "54000/54000 [==============================] - 6s 107us/step - loss: 0.1543 - acc: 0.9535 - val_loss: 0.0904 - val_acc: 0.9758\n",
      "Epoch 8/20\n",
      "54000/54000 [==============================] - 5s 100us/step - loss: 0.1443 - acc: 0.9558 - val_loss: 0.0833 - val_acc: 0.9750\n",
      "Epoch 9/20\n",
      "54000/54000 [==============================] - 5s 97us/step - loss: 0.1337 - acc: 0.9594 - val_loss: 0.0807 - val_acc: 0.9753\n",
      "Epoch 10/20\n",
      "54000/54000 [==============================] - 5s 87us/step - loss: 0.1265 - acc: 0.9619 - val_loss: 0.0797 - val_acc: 0.9767\n",
      "Epoch 11/20\n",
      "54000/54000 [==============================] - 5s 90us/step - loss: 0.1164 - acc: 0.9645 - val_loss: 0.0771 - val_acc: 0.9757\n",
      "Epoch 12/20\n",
      "54000/54000 [==============================] - 5s 92us/step - loss: 0.1086 - acc: 0.9669 - val_loss: 0.0747 - val_acc: 0.9782\n",
      "Epoch 13/20\n",
      "54000/54000 [==============================] - 4s 81us/step - loss: 0.1035 - acc: 0.9677 - val_loss: 0.0728 - val_acc: 0.9775\n",
      "Epoch 14/20\n",
      "54000/54000 [==============================] - 5s 88us/step - loss: 0.1003 - acc: 0.9693 - val_loss: 0.0772 - val_acc: 0.9772\n",
      "Epoch 15/20\n",
      "54000/54000 [==============================] - 5s 93us/step - loss: 0.0953 - acc: 0.9700 - val_loss: 0.0699 - val_acc: 0.9790\n",
      "Epoch 16/20\n",
      "54000/54000 [==============================] - 5s 96us/step - loss: 0.0899 - acc: 0.9718 - val_loss: 0.0723 - val_acc: 0.9783\n",
      "Epoch 17/20\n",
      "54000/54000 [==============================] - 5s 90us/step - loss: 0.0845 - acc: 0.9732 - val_loss: 0.0685 - val_acc: 0.9793\n",
      "Epoch 18/20\n",
      "54000/54000 [==============================] - 5s 87us/step - loss: 0.0845 - acc: 0.9736 - val_loss: 0.0652 - val_acc: 0.9808\n",
      "Epoch 19/20\n",
      "54000/54000 [==============================] - 5s 90us/step - loss: 0.0818 - acc: 0.9740 - val_loss: 0.0703 - val_acc: 0.9788\n",
      "Epoch 20/20\n",
      "54000/54000 [==============================] - 5s 90us/step - loss: 0.0783 - acc: 0.9750 - val_loss: 0.0710 - val_acc: 0.9797\n"
     ]
    }
   ],
   "source": [
    "model4_out = model4.fit(x_train, y_train, batch_size=100, epochs=20, validation_split=0.1, callbacks=[early_stopping])\n"
   ]
  },
  {
   "cell_type": "code",
   "execution_count": 31,
   "metadata": {},
   "outputs": [
    {
     "name": "stdout",
     "output_type": "stream",
     "text": [
      "60000/60000 [==============================] - 7s 114us/step\n",
      "loss: 0.04114108771386091\n",
      "accuracy: 0.9876833333333334\n"
     ]
    }
   ],
   "source": [
    "score = model4.evaluate(x_train, y_train)\n",
    "print('loss:', score[0])\n",
    "print('accuracy:', score[1])"
   ]
  },
  {
   "cell_type": "code",
   "execution_count": 32,
   "metadata": {},
   "outputs": [
    {
     "name": "stdout",
     "output_type": "stream",
     "text": [
      "10000/10000 [==============================] - 1s 91us/step\n",
      "loss: 0.07820440290218685\n",
      "accuracy: 0.9759\n"
     ]
    }
   ],
   "source": [
    "score = model4.evaluate(x_test, y_test)\n",
    "print('loss:', score[0])\n",
    "print('accuracy:', score[1])"
   ]
  },
  {
   "cell_type": "markdown",
   "metadata": {},
   "source": [
    "互動小程式"
   ]
  },
  {
   "cell_type": "code",
   "execution_count": 33,
   "metadata": {},
   "outputs": [],
   "source": [
    "from ipywidgets import interact"
   ]
  },
  {
   "cell_type": "code",
   "execution_count": 34,
   "metadata": {},
   "outputs": [],
   "source": [
    "predict = model4.predict_classes(x_test)\n",
    "def test(測試編號):\n",
    "    plt.imshow(x_test[測試編號].reshape(28,28), cmap='Greys')\n",
    "    print('原本給的label為：', y_test.argmax(1)[測試編號])\n",
    "    print('神經網路判斷為:',predict[測試編號])"
   ]
  },
  {
   "cell_type": "code",
   "execution_count": 35,
   "metadata": {},
   "outputs": [
    {
     "data": {
      "application/vnd.jupyter.widget-view+json": {
       "model_id": "8dac6268a44e404d9449949338e8613e",
       "version_major": 2,
       "version_minor": 0
      },
      "text/plain": [
       "interactive(children=(IntSlider(value=4999, description='測試編號', max=9999), Output()), _dom_classes=('widget-in…"
      ]
     },
     "metadata": {},
     "output_type": "display_data"
    },
    {
     "data": {
      "text/plain": [
       "<function __main__.test(測試編號)>"
      ]
     },
     "execution_count": 35,
     "metadata": {},
     "output_type": "execute_result"
    }
   ],
   "source": [
    "interact(test, 測試編號=(0,9999))"
   ]
  },
  {
   "cell_type": "markdown",
   "metadata": {},
   "source": [
    "將訓練好的神經網路存起來"
   ]
  },
  {
   "cell_type": "code",
   "execution_count": 36,
   "metadata": {},
   "outputs": [],
   "source": [
    "model_json = model.to_json()\n",
    "open('hand_writing.json', 'w').write(model_json)\n",
    "model.save_weights('hand_writing_weight.h5')"
   ]
  },
  {
   "cell_type": "code",
   "execution_count": 37,
   "metadata": {},
   "outputs": [
    {
     "data": {
      "image/png": "[encoded data removed]",
      "text/plain": [
       "<Figure size 432x288 with 1 Axes>"
      ]
     },
     "metadata": {
      "needs_background": "light"
     },
     "output_type": "display_data"
    }
   ],
   "source": [
    "plt.plot(model_out.history[\"acc\"])\n",
    "plt.plot(model2_out.history[\"acc\"])\n",
    "plt.plot(model3_out.history[\"acc\"])\n",
    "plt.plot(model4_out.history[\"acc\"])\n",
    "\n",
    "plt.title(\"model training accuracy\")\n",
    "plt.ylabel(\"accuracy\")\n",
    "plt.xlabel(\"epoch\")\n",
    "plt.legend([\"mse+sigmoid\",\"cross entropy+sigmoid\",\"cross entropy+relu\",\"+dropout+early stopping\"],loc=\"best\")\n",
    "plt.show()\n"
   ]
  },
  {
   "cell_type": "code",
   "execution_count": 38,
   "metadata": {},
   "outputs": [
    {
     "data": {
      "image/png": "[encoded data removed]",
      "text/plain": [
       "<Figure size 432x288 with 1 Axes>"
      ]
     },
     "metadata": {
      "needs_background": "light"
     },
     "output_type": "display_data"
    }
   ],
   "source": [
    "plt.plot(model_out.history[\"val_loss\"])\n",
    "plt.plot(model2_out.history[\"val_loss\"])\n",
    "plt.plot(model3_out.history[\"val_loss\"])\n",
    "plt.plot(model4_out.history[\"val_loss\"])\n",
    "\n",
    "plt.title(\"model validation loss\")\n",
    "plt.ylabel(\"loss\")\n",
    "plt.xlabel(\"epoch\")\n",
    "plt.legend([\"mse+sigmoid\",\"cross entropy+sigmoid\",\"cross entropy+relu\",\"+dropout+early stopping\"],loc=\"best\")\n",
    "plt.show()"
   ]
  },
  {
   "cell_type": "code",
   "execution_count": null,
   "metadata": {},
   "outputs": [],
   "source": []
  }
 ],
 "metadata": {
  "kernelspec": {
   "display_name": "Python 3",
   "language": "python",
   "name": "python3"
  },
  "language_info": {
   "codemirror_mode": {
    "name": "ipython",
    "version": 3
   },
   "file_extension": ".py",
   "mimetype": "text/x-python",
   "name": "python",
   "nbconvert_exporter": "python",
   "pygments_lexer": "ipython3",
   "version": "3.6.8"
  }
 },
 "nbformat": 4,
 "nbformat_minor": 2
}
