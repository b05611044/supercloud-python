{
 "cells": [
  {
   "cell_type": "code",
   "execution_count": 2,
   "metadata": {},
   "outputs": [],
   "source": [
    "import pandas as pd\n",
    "df=pd.read_csv(\"https://ceiba.ntu.edu.tw/course/4671ea/content/keller2017.csv\")"
   ]
  },
  {
   "cell_type": "code",
   "execution_count": 3,
   "metadata": {},
   "outputs": [],
   "source": [
    "def analyze():\n",
    "    df1=df.iloc[:,[34,16,17,18,19,6,7,8,9,11,12,13,14]]\n",
    "    df1=df1.dropna()\n",
    "    #print(df1)\n",
    "    \n",
    "    df2c=df1.iloc[:,[0]]\n",
    "    df2e=df1.iloc[:,[1,2,3,4]]\n",
    "    df2e=df2e.T\n",
    "    df2e=df2e.sum()/4\n",
    "\n",
    "    df2p=df1.iloc[:,[5,6,7,8]]\n",
    "    df2p=df2p.T\n",
    "    df2p=df2p.sum()/4\n",
    "    \n",
    "    df2h=df1.iloc[:,[9,10,11,12]]\n",
    "    df2h=df2h.T\n",
    "    df2h=df2h.sum()/4    \n",
    "    \n",
    "    df2=pd.DataFrame( {\"expansiveness\" : df2e, \"performance\" : df2p, \"hire\" : df2h})\n",
    "    df2['cond']=df2c\n",
    "    #print(df2)\n",
    "    df3=df2.groupby('cond').mean()\n",
    "    #print(df3)\n",
    "\n",
    "    return([df1,df2,df3])"
   ]
  },
  {
   "cell_type": "code",
   "execution_count": 4,
   "metadata": {},
   "outputs": [
    {
     "name": "stdout",
     "output_type": "stream",
     "text": [
      "(194, 13) (194, 4)\n",
      "      expansiveness  performance      hire\n",
      "cond                                      \n",
      "AC         3.586957     3.967391  1.853261\n",
      "AE         3.607955     3.460227  1.982955\n",
      "UC         3.435185     3.717593  1.916667\n",
      "UE         3.685000     3.765000  1.940000\n"
     ]
    }
   ],
   "source": [
    "[df1,df2,df3]=analyze()\n",
    "print(df1.shape,df2.shape)\n",
    "print(df3)"
   ]
  }
 ],
 "metadata": {
  "kernelspec": {
   "display_name": "Python 3",
   "language": "python",
   "name": "python3"
  },
  "language_info": {
   "codemirror_mode": {
    "name": "ipython",
    "version": 3
   },
   "file_extension": ".py",
   "mimetype": "text/x-python",
   "name": "python",
   "nbconvert_exporter": "python",
   "pygments_lexer": "ipython3",
   "version": "3.6.8"
  }
 },
 "nbformat": 4,
 "nbformat_minor": 2
}
