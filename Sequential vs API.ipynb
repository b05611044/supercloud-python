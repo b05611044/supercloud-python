{
 "cells": [
  {
   "cell_type": "code",
   "execution_count": 1,
   "metadata": {},
   "outputs": [
    {
     "name": "stdout",
     "output_type": "stream",
     "text": [
      "env: KERAS_BACKEND=tensorflow\n"
     ]
    }
   ],
   "source": [
    "%env KERAS_BACKEND = tensorflow"
   ]
  },
  {
   "cell_type": "code",
   "execution_count": 2,
   "metadata": {},
   "outputs": [],
   "source": [
    "%matplotlib inline\n",
    "\n",
    "import numpy as np\n",
    "import matplotlib.pyplot as plt"
   ]
  },
  {
   "cell_type": "code",
   "execution_count": 3,
   "metadata": {},
   "outputs": [
    {
     "name": "stderr",
     "output_type": "stream",
     "text": [
      "Using TensorFlow backend.\n"
     ]
    }
   ],
   "source": [
    "from keras.models import Sequential\n",
    "from keras.layers import Dense, Activation, Dropout, Conv2D, MaxPooling2D, LeakyReLU, Flatten\n",
    "from keras.datasets import mnist\n",
    "from keras.utils import np_utils\n",
    "from keras.optimizers import adam"
   ]
  },
  {
   "cell_type": "code",
   "execution_count": 4,
   "metadata": {},
   "outputs": [],
   "source": [
    "(x_train, y_train), (x_test, y_test) = mnist.load_data()\n",
    "x_train = x_train.reshape(60000, 28, 28, 1)\n",
    "x_test = x_test.reshape(10000, 28, 28, 1)\n",
    "x_train -= x_train.min()\n",
    "x_train = x_train/x_train.max()\n",
    "x_test -= x_test.min()\n",
    "x_test = x_test/x_test.max()\n",
    "y_train = np_utils.to_categorical(y_train ,10)\n",
    "y_test = np_utils.to_categorical(y_test, 10)"
   ]
  },
  {
   "cell_type": "markdown",
   "metadata": {},
   "source": [
    "實作sequential"
   ]
  },
  {
   "cell_type": "code",
   "execution_count": 5,
   "metadata": {},
   "outputs": [],
   "source": [
    "model_cnn = Sequential([\n",
    "    Conv2D(32, (3, 3), padding = 'same', input_shape = (28, 28, 1)),\n",
    "    MaxPooling2D(),\n",
    "    LeakyReLU(alpha = 0.3),\n",
    "    Dropout(0.25),\n",
    "    \n",
    "    Conv2D(32, (3, 3), padding = 'same'),\n",
    "    MaxPooling2D(),\n",
    "    LeakyReLU(alpha = 0.3),\n",
    "    Dropout(0.25), \n",
    "    \n",
    "    Flatten(),\n",
    "    Dense(128, activation = 'relu'),\n",
    "    Dropout(0.25),\n",
    "    Dense(32, activation = 'relu'), \n",
    "    Dropout(0.25), \n",
    "    Dense(10, activation = 'softmax')\n",
    "    \n",
    "])"
   ]
  },
  {
   "cell_type": "code",
   "execution_count": 6,
   "metadata": {},
   "outputs": [
    {
     "name": "stdout",
     "output_type": "stream",
     "text": [
      "_________________________________________________________________\n",
      "Layer (type)                 Output Shape              Param #   \n",
      "=================================================================\n",
      "conv2d_1 (Conv2D)            (None, 28, 28, 32)        320       \n",
      "_________________________________________________________________\n",
      "max_pooling2d_1 (MaxPooling2 (None, 14, 14, 32)        0         \n",
      "_________________________________________________________________\n",
      "leaky_re_lu_1 (LeakyReLU)    (None, 14, 14, 32)        0         \n",
      "_________________________________________________________________\n",
      "dropout_1 (Dropout)          (None, 14, 14, 32)        0         \n",
      "_________________________________________________________________\n",
      "conv2d_2 (Conv2D)            (None, 14, 14, 32)        9248      \n",
      "_________________________________________________________________\n",
      "max_pooling2d_2 (MaxPooling2 (None, 7, 7, 32)          0         \n",
      "_________________________________________________________________\n",
      "leaky_re_lu_2 (LeakyReLU)    (None, 7, 7, 32)          0         \n",
      "_________________________________________________________________\n",
      "dropout_2 (Dropout)          (None, 7, 7, 32)          0         \n",
      "_________________________________________________________________\n",
      "flatten_1 (Flatten)          (None, 1568)              0         \n",
      "_________________________________________________________________\n",
      "dense_1 (Dense)              (None, 128)               200832    \n",
      "_________________________________________________________________\n",
      "dropout_3 (Dropout)          (None, 128)               0         \n",
      "_________________________________________________________________\n",
      "dense_2 (Dense)              (None, 32)                4128      \n",
      "_________________________________________________________________\n",
      "dropout_4 (Dropout)          (None, 32)                0         \n",
      "_________________________________________________________________\n",
      "dense_3 (Dense)              (None, 10)                330       \n",
      "=================================================================\n",
      "Total params: 214,858\n",
      "Trainable params: 214,858\n",
      "Non-trainable params: 0\n",
      "_________________________________________________________________\n"
     ]
    }
   ],
   "source": [
    "model_cnn.summary()"
   ]
  },
  {
   "cell_type": "code",
   "execution_count": 7,
   "metadata": {},
   "outputs": [],
   "source": [
    "model_cnn.compile(optimizer = 'adam', loss = 'categorical_crossentropy', metrics = ['acc'])"
   ]
  },
  {
   "cell_type": "code",
   "execution_count": 8,
   "metadata": {},
   "outputs": [
    {
     "name": "stdout",
     "output_type": "stream",
     "text": [
      "Epoch 1/30\n",
      "60000/60000 [==============================] - 123s 2ms/step - loss: 0.4220 - acc: 0.8647\n",
      "Epoch 2/30\n",
      "60000/60000 [==============================] - 122s 2ms/step - loss: 0.1359 - acc: 0.9614\n",
      "Epoch 3/30\n",
      "60000/60000 [==============================] - 116s 2ms/step - loss: 0.0992 - acc: 0.9720\n",
      "Epoch 4/30\n",
      "60000/60000 [==============================] - 124s 2ms/step - loss: 0.0831 - acc: 0.9772\n",
      "Epoch 5/30\n",
      "60000/60000 [==============================] - 121s 2ms/step - loss: 0.0721 - acc: 0.9799\n",
      "Epoch 6/30\n",
      "60000/60000 [==============================] - 119s 2ms/step - loss: 0.0640 - acc: 0.9823\n",
      "Epoch 7/30\n",
      "60000/60000 [==============================] - 94s 2ms/step - loss: 0.0570 - acc: 0.9839\n",
      "Epoch 8/30\n",
      "60000/60000 [==============================] - 71s 1ms/step - loss: 0.0529 - acc: 0.9847\n",
      "Epoch 9/30\n",
      "60000/60000 [==============================] - 78s 1ms/step - loss: 0.0498 - acc: 0.9861\n",
      "Epoch 10/30\n",
      "60000/60000 [==============================] - 79s 1ms/step - loss: 0.0452 - acc: 0.9869\n",
      "Epoch 11/30\n",
      "60000/60000 [==============================] - 78s 1ms/step - loss: 0.0435 - acc: 0.9879\n",
      "Epoch 12/30\n",
      "60000/60000 [==============================] - 76s 1ms/step - loss: 0.0415 - acc: 0.9876\n",
      "Epoch 13/30\n",
      "60000/60000 [==============================] - 74s 1ms/step - loss: 0.0402 - acc: 0.9886\n",
      "Epoch 14/30\n",
      "60000/60000 [==============================] - 74s 1ms/step - loss: 0.0375 - acc: 0.9892\n",
      "Epoch 15/30\n",
      "60000/60000 [==============================] - 73s 1ms/step - loss: 0.0352 - acc: 0.9895\n",
      "Epoch 16/30\n",
      "60000/60000 [==============================] - 76s 1ms/step - loss: 0.0343 - acc: 0.9900\n",
      "Epoch 17/30\n",
      "60000/60000 [==============================] - 72s 1ms/step - loss: 0.0340 - acc: 0.9900\n",
      "Epoch 18/30\n",
      "60000/60000 [==============================] - 72s 1ms/step - loss: 0.0325 - acc: 0.9908\n",
      "Epoch 19/30\n",
      "60000/60000 [==============================] - 70s 1ms/step - loss: 0.0319 - acc: 0.9906\n",
      "Epoch 20/30\n",
      "60000/60000 [==============================] - 54s 900us/step - loss: 0.0297 - acc: 0.9912\n",
      "Epoch 21/30\n",
      "60000/60000 [==============================] - 53s 888us/step - loss: 0.0325 - acc: 0.9903\n",
      "Epoch 22/30\n",
      "60000/60000 [==============================] - 55s 911us/step - loss: 0.0280 - acc: 0.9918\n",
      "Epoch 23/30\n",
      "60000/60000 [==============================] - 55s 912us/step - loss: 0.0262 - acc: 0.99222s - loss\n",
      "Epoch 24/30\n",
      "60000/60000 [==============================] - 53s 877us/step - loss: 0.0268 - acc: 0.9924\n",
      "Epoch 25/30\n",
      "60000/60000 [==============================] - 54s 893us/step - loss: 0.0265 - acc: 0.9919\n",
      "Epoch 26/30\n",
      "60000/60000 [==============================] - 53s 891us/step - loss: 0.0246 - acc: 0.9928\n",
      "Epoch 27/30\n",
      "60000/60000 [==============================] - 55s 911us/step - loss: 0.0248 - acc: 0.99212s - l\n",
      "Epoch 28/30\n",
      "60000/60000 [==============================] - 54s 903us/step - loss: 0.0246 - acc: 0.9928\n",
      "Epoch 29/30\n",
      "60000/60000 [==============================] - 56s 934us/step - loss: 0.0242 - acc: 0.9929\n",
      "Epoch 30/30\n",
      "60000/60000 [==============================] - 58s 965us/step - loss: 0.0244 - acc: 0.9931\n",
      "10000/10000 [==============================] - 2s 249us/step\n"
     ]
    }
   ],
   "source": [
    "model_cnn_fit = model_cnn.fit(x_train, y_train, batch_size = 100, epochs = 30)\n",
    "score = model_cnn.evaluate(x_test, y_test)"
   ]
  },
  {
   "cell_type": "code",
   "execution_count": 9,
   "metadata": {},
   "outputs": [
    {
     "name": "stdout",
     "output_type": "stream",
     "text": [
      "Testing loss:  0.030397739534675613\n",
      "Testing acc:  0.9924\n"
     ]
    },
    {
     "data": {
      "image/png": "[encoded data removed]",
      "text/plain": [
       "<Figure size 432x288 with 1 Axes>"
      ]
     },
     "metadata": {
      "needs_background": "light"
     },
     "output_type": "display_data"
    }
   ],
   "source": [
    "plt.plot(model_cnn_fit.history['acc'])\n",
    "plt.title('training accuracy')\n",
    "plt.xlabel('epochs')\n",
    "plt.ylabel('accuracy')\n",
    "print('Testing loss: ', score[0])\n",
    "print('Testing acc: ', score[1])"
   ]
  },
  {
   "cell_type": "markdown",
   "metadata": {},
   "source": [
    "實作Functional API"
   ]
  },
  {
   "cell_type": "code",
   "execution_count": 10,
   "metadata": {},
   "outputs": [],
   "source": [
    "from keras.layers import Input, concatenate, Softmax\n",
    "from keras.models import Model"
   ]
  },
  {
   "cell_type": "code",
   "execution_count": 11,
   "metadata": {},
   "outputs": [],
   "source": [
    "x = Input(shape = (28, 28, 1))\n",
    "conv1 = Conv2D(32, (3, 3), padding = 'same')\n",
    "max1 = MaxPooling2D()\n",
    "re1 = LeakyReLU(alpha = 0.3)\n",
    "dp1 = Dropout(0.25)\n",
    "conv2 = Conv2D(32, (3, 3), padding = 'same')\n",
    "max2 = MaxPooling2D()\n",
    "re2 = LeakyReLU(alpha = 0.3)\n",
    "dp2 = Dropout(0.25) \n",
    "flat = Flatten()\n",
    "fc1 = Dense(128, activation = 'relu')\n",
    "dp3 = Dropout(0.25)\n",
    "fc2 = Dense(32, activation = 'relu') \n",
    "dp4 = Dropout(0.25)\n",
    "fc3 = Dense(10, activation = 'softmax')"
   ]
  },
  {
   "cell_type": "code",
   "execution_count": 12,
   "metadata": {},
   "outputs": [],
   "source": [
    "out = fc3(dp4(fc2(dp3(fc1(flat(dp2(re2(max2(conv2(dp1(re1(max1(conv1(x))))))))))))))"
   ]
  },
  {
   "cell_type": "code",
   "execution_count": 13,
   "metadata": {},
   "outputs": [
    {
     "name": "stdout",
     "output_type": "stream",
     "text": [
      "_________________________________________________________________\n",
      "Layer (type)                 Output Shape              Param #   \n",
      "=================================================================\n",
      "input_1 (InputLayer)         (None, 28, 28, 1)         0         \n",
      "_________________________________________________________________\n",
      "conv2d_3 (Conv2D)            (None, 28, 28, 32)        320       \n",
      "_________________________________________________________________\n",
      "max_pooling2d_3 (MaxPooling2 (None, 14, 14, 32)        0         \n",
      "_________________________________________________________________\n",
      "leaky_re_lu_3 (LeakyReLU)    (None, 14, 14, 32)        0         \n",
      "_________________________________________________________________\n",
      "dropout_5 (Dropout)          (None, 14, 14, 32)        0         \n",
      "_________________________________________________________________\n",
      "conv2d_4 (Conv2D)            (None, 14, 14, 32)        9248      \n",
      "_________________________________________________________________\n",
      "max_pooling2d_4 (MaxPooling2 (None, 7, 7, 32)          0         \n",
      "_________________________________________________________________\n",
      "leaky_re_lu_4 (LeakyReLU)    (None, 7, 7, 32)          0         \n",
      "_________________________________________________________________\n",
      "dropout_6 (Dropout)          (None, 7, 7, 32)          0         \n",
      "_________________________________________________________________\n",
      "flatten_2 (Flatten)          (None, 1568)              0         \n",
      "_________________________________________________________________\n",
      "dense_4 (Dense)              (None, 128)               200832    \n",
      "_________________________________________________________________\n",
      "dropout_7 (Dropout)          (None, 128)               0         \n",
      "_________________________________________________________________\n",
      "dense_5 (Dense)              (None, 32)                4128      \n",
      "_________________________________________________________________\n",
      "dropout_8 (Dropout)          (None, 32)                0         \n",
      "_________________________________________________________________\n",
      "dense_6 (Dense)              (None, 10)                330       \n",
      "=================================================================\n",
      "Total params: 214,858\n",
      "Trainable params: 214,858\n",
      "Non-trainable params: 0\n",
      "_________________________________________________________________\n"
     ]
    }
   ],
   "source": [
    "model_api = Model(x, out)\n",
    "model_api.summary()"
   ]
  },
  {
   "cell_type": "code",
   "execution_count": 14,
   "metadata": {},
   "outputs": [],
   "source": [
    "model_api.compile(optimizer = 'adam', loss = 'categorical_crossentropy', metrics = ['acc'])"
   ]
  },
  {
   "cell_type": "code",
   "execution_count": 15,
   "metadata": {},
   "outputs": [
    {
     "name": "stdout",
     "output_type": "stream",
     "text": [
      "Epoch 1/30\n",
      "60000/60000 [==============================] - 55s 912us/step - loss: 0.4376 - acc: 0.8628\n",
      "Epoch 2/30\n",
      "60000/60000 [==============================] - 54s 896us/step - loss: 0.1512 - acc: 0.9579\n",
      "Epoch 3/30\n",
      "60000/60000 [==============================] - 54s 906us/step - loss: 0.1109 - acc: 0.9696\n",
      "Epoch 4/30\n",
      "60000/60000 [==============================] - 52s 868us/step - loss: 0.0873 - acc: 0.9750\n",
      "Epoch 5/30\n",
      "60000/60000 [==============================] - 52s 869us/step - loss: 0.0762 - acc: 0.9789\n",
      "Epoch 6/30\n",
      "60000/60000 [==============================] - 52s 869us/step - loss: 0.0679 - acc: 0.9811\n",
      "Epoch 7/30\n",
      "60000/60000 [==============================] - 52s 866us/step - loss: 0.0608 - acc: 0.98232s -\n",
      "Epoch 8/30\n",
      "60000/60000 [==============================] - 52s 870us/step - loss: 0.0553 - acc: 0.9843\n",
      "Epoch 9/30\n",
      "60000/60000 [==============================] - 52s 868us/step - loss: 0.0528 - acc: 0.98510s - loss: 0.0531 - acc: \n",
      "Epoch 10/30\n",
      "60000/60000 [==============================] - 52s 870us/step - loss: 0.0494 - acc: 0.9863\n",
      "Epoch 11/30\n",
      "60000/60000 [==============================] - 52s 866us/step - loss: 0.0423 - acc: 0.98770s - loss: 0.0421 - \n",
      "Epoch 12/30\n",
      "60000/60000 [==============================] - 52s 870us/step - loss: 0.0443 - acc: 0.9871\n",
      "Epoch 13/30\n",
      "60000/60000 [==============================] - 52s 871us/step - loss: 0.0412 - acc: 0.9886\n",
      "Epoch 14/30\n",
      "60000/60000 [==============================] - 52s 866us/step - loss: 0.0406 - acc: 0.9884\n",
      "Epoch 15/30\n",
      "60000/60000 [==============================] - 52s 872us/step - loss: 0.0367 - acc: 0.9891\n",
      "Epoch 16/30\n",
      "60000/60000 [==============================] - 52s 863us/step - loss: 0.0353 - acc: 0.9896\n",
      "Epoch 17/30\n",
      "60000/60000 [==============================] - 51s 858us/step - loss: 0.0339 - acc: 0.9903\n",
      "Epoch 18/30\n",
      "60000/60000 [==============================] - 52s 862us/step - loss: 0.0329 - acc: 0.9910\n",
      "Epoch 19/30\n",
      "60000/60000 [==============================] - 52s 863us/step - loss: 0.0334 - acc: 0.9900\n",
      "Epoch 20/30\n",
      "60000/60000 [==============================] - 52s 860us/step - loss: 0.0298 - acc: 0.9912\n",
      "Epoch 21/30\n",
      "60000/60000 [==============================] - 52s 862us/step - loss: 0.0296 - acc: 0.9916\n",
      "Epoch 22/30\n",
      "60000/60000 [==============================] - 52s 862us/step - loss: 0.0312 - acc: 0.9907\n",
      "Epoch 23/30\n",
      "60000/60000 [==============================] - 52s 861us/step - loss: 0.0288 - acc: 0.9917\n",
      "Epoch 24/30\n",
      "60000/60000 [==============================] - 52s 866us/step - loss: 0.0281 - acc: 0.9917\n",
      "Epoch 25/30\n",
      "60000/60000 [==============================] - 52s 861us/step - loss: 0.0288 - acc: 0.9914\n",
      "Epoch 26/30\n",
      "60000/60000 [==============================] - 52s 861us/step - loss: 0.0288 - acc: 0.9915\n",
      "Epoch 27/30\n",
      "60000/60000 [==============================] - 52s 867us/step - loss: 0.0256 - acc: 0.99221s - loss: 0.0\n",
      "Epoch 28/30\n",
      "60000/60000 [==============================] - 52s 871us/step - loss: 0.0258 - acc: 0.99221s - loss:\n",
      "Epoch 29/30\n",
      "60000/60000 [==============================] - 52s 873us/step - loss: 0.0250 - acc: 0.9927\n",
      "Epoch 30/30\n",
      "60000/60000 [==============================] - 53s 875us/step - loss: 0.0252 - acc: 0.9921\n",
      "10000/10000 [==============================] - 3s 253us/step\n"
     ]
    }
   ],
   "source": [
    "model_api_fit = model_api.fit(x_train, y_train, batch_size = 100, epochs = 30)\n",
    "score = model_api.evaluate(x_test, y_test)"
   ]
  },
  {
   "cell_type": "code",
   "execution_count": 16,
   "metadata": {},
   "outputs": [
    {
     "name": "stdout",
     "output_type": "stream",
     "text": [
      "Testing loss:  0.028605070606908724\n",
      "Testing acc:  0.9924\n"
     ]
    },
    {
     "data": {
      "image/png": "[encoded data removed]",
      "text/plain": [
       "<Figure size 432x288 with 1 Axes>"
      ]
     },
     "metadata": {
      "needs_background": "light"
     },
     "output_type": "display_data"
    }
   ],
   "source": [
    "plt.plot(model_api_fit.history['acc'])\n",
    "plt.title('training accuracy')\n",
    "plt.xlabel('epochs')\n",
    "plt.ylabel('accuracy')\n",
    "print('Testing loss: ', score[0])\n",
    "print('Testing acc: ', score[1])"
   ]
  },
  {
   "cell_type": "markdown",
   "metadata": {},
   "source": [
    "結果十分接近 (合理)"
   ]
  },
  {
   "cell_type": "code",
   "execution_count": null,
   "metadata": {},
   "outputs": [],
   "source": []
  }
 ],
 "metadata": {
  "kernelspec": {
   "display_name": "Python 3",
   "language": "python",
   "name": "python3"
  },
  "language_info": {
   "codemirror_mode": {
    "name": "ipython",
    "version": 3
   },
   "file_extension": ".py",
   "mimetype": "text/x-python",
   "name": "python",
   "nbconvert_exporter": "python",
   "pygments_lexer": "ipython3",
   "version": "3.6.8"
  }
 },
 "nbformat": 4,
 "nbformat_minor": 2
}
