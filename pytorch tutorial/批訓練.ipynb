{
 "cells": [
  {
   "cell_type": "code",
   "execution_count": 1,
   "metadata": {},
   "outputs": [],
   "source": [
    "import torch\n",
    "import torch.utils.data as Data"
   ]
  },
  {
   "cell_type": "code",
   "execution_count": 2,
   "metadata": {},
   "outputs": [],
   "source": [
    "BATCH_SIZE = 5"
   ]
  },
  {
   "cell_type": "code",
   "execution_count": 3,
   "metadata": {},
   "outputs": [],
   "source": [
    "x = torch.linspace(1, 10, 10)\n",
    "y = torch.linspace(10, 1, 10)"
   ]
  },
  {
   "cell_type": "code",
   "execution_count": 5,
   "metadata": {},
   "outputs": [],
   "source": [
    "torch_dataset = Data.TensorDataset(x, y)"
   ]
  },
  {
   "cell_type": "code",
   "execution_count": 7,
   "metadata": {},
   "outputs": [],
   "source": [
    "loader = Data.DataLoader(\n",
    "    dataset=torch_dataset,      # torch TensorDataset format\n",
    "    batch_size=BATCH_SIZE,      # mini batch size\n",
    "    shuffle=True,               # random shuffle for training\n",
    "    num_workers=2,              # subprocesses for loading data\n",
    ")"
   ]
  },
  {
   "cell_type": "code",
   "execution_count": 8,
   "metadata": {},
   "outputs": [
    {
     "name": "stdout",
     "output_type": "stream",
     "text": [
      "Epoch:  0 | Step:  0 | batch x:  [1. 9. 5. 4. 8.] | batch y:  [10.  2.  6.  7.  3.]\n",
      "Epoch:  0 | Step:  1 | batch x:  [ 2.  7. 10.  6.  3.] | batch y:  [9. 4. 1. 5. 8.]\n",
      "Epoch:  1 | Step:  0 | batch x:  [10.  3.  7.  8.  1.] | batch y:  [ 1.  8.  4.  3. 10.]\n",
      "Epoch:  1 | Step:  1 | batch x:  [5. 4. 9. 2. 6.] | batch y:  [6. 7. 2. 9. 5.]\n",
      "Epoch:  2 | Step:  0 | batch x:  [ 7.  3.  4.  1. 10.] | batch y:  [ 4.  8.  7. 10.  1.]\n",
      "Epoch:  2 | Step:  1 | batch x:  [5. 8. 9. 2. 6.] | batch y:  [6. 3. 2. 9. 5.]\n"
     ]
    }
   ],
   "source": [
    "for epoch in range(3):\n",
    "    for step, (batch_x, batch_y) in enumerate(loader):\n",
    "        # training ...\n",
    "        print('Epoch: ', epoch, '| Step: ', step, '| batch x: ',\n",
    "                  batch_x.numpy(), '| batch y: ', batch_y.numpy())\n",
    "        "
   ]
  },
  {
   "cell_type": "code",
   "execution_count": null,
   "metadata": {},
   "outputs": [],
   "source": []
  }
 ],
 "metadata": {
  "kernelspec": {
   "display_name": "Python 3",
   "language": "python",
   "name": "python3"
  },
  "language_info": {
   "codemirror_mode": {
    "name": "ipython",
    "version": 3
   },
   "file_extension": ".py",
   "mimetype": "text/x-python",
   "name": "python",
   "nbconvert_exporter": "python",
   "pygments_lexer": "ipython3",
   "version": "3.6.8"
  }
 },
 "nbformat": 4,
 "nbformat_minor": 2
}
